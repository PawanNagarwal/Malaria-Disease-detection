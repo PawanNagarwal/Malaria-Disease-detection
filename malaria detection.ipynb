{
 "cells": [
  {
   "cell_type": "code",
   "execution_count": 2,
   "id": "18c7f692",
   "metadata": {},
   "outputs": [],
   "source": [
    "from tensorflow.keras.layers import Input, Lambda, Dense, Flatten,Conv2D\n",
    "from tensorflow.keras.models import Model\n",
    "from tensorflow.keras.applications.vgg19 import VGG19\n",
    "from tensorflow.keras.applications.resnet50 import preprocess_input\n",
    "from tensorflow.keras.preprocessing import image\n",
    "from tensorflow.keras.preprocessing.image import ImageDataGenerator,load_img\n",
    "from tensorflow.keras.models import Sequential\n",
    "import numpy as np\n",
    "from glob import glob\n",
    "import matplotlib.pyplot as plt"
   ]
  },
  {
   "cell_type": "code",
   "execution_count": 4,
   "id": "3d9adab5",
   "metadata": {},
   "outputs": [],
   "source": [
    "# re-size all the images to this\n",
    "IMAGE_SIZE = [224, 224]\n",
    "\n",
    "train_path = r'C:\\Users\\Pawan\\Downloads\\archive\\cell_images\\Train'\n",
    "valid_path = r'C:\\Users\\Pawan\\Downloads\\archive\\cell_images\\Test'"
   ]
  },
  {
   "cell_type": "code",
   "execution_count": 5,
   "id": "ed59d2cf",
   "metadata": {},
   "outputs": [
    {
     "name": "stdout",
     "output_type": "stream",
     "text": [
      "Downloading data from https://storage.googleapis.com/tensorflow/keras-applications/vgg19/vgg19_weights_tf_dim_ordering_tf_kernels_notop.h5\n",
      "80142336/80134624 [==============================] - 34s 0us/step\n",
      "80150528/80134624 [==============================] - 34s 0us/step\n"
     ]
    }
   ],
   "source": [
    "# Import the Vgg 16 library as shown below and add preprocessing layer to the front of VGG\n",
    "# Here we will be using imagenet weights\n",
    "\n",
    "mobilnet = VGG19(input_shape=IMAGE_SIZE + [3], weights='imagenet', include_top=False)"
   ]
  },
  {
   "cell_type": "code",
   "execution_count": 6,
   "id": "10d8a462",
   "metadata": {},
   "outputs": [],
   "source": [
    "# don't train existing weights\n",
    "for layer in mobilnet.layers:\n",
    "    layer.trainable = False"
   ]
  },
  {
   "cell_type": "code",
   "execution_count": 7,
   "id": "880f3b4e",
   "metadata": {},
   "outputs": [],
   "source": [
    "  # useful for getting number of output classes\n",
    "folders = glob('Dataset/Train/*')"
   ]
  },
  {
   "cell_type": "code",
   "execution_count": 8,
   "id": "a5bd29bf",
   "metadata": {},
   "outputs": [],
   "source": [
    "# our layers - you can add more if you want\n",
    "x = Flatten()(mobilnet.output)"
   ]
  },
  {
   "cell_type": "code",
   "execution_count": 11,
   "id": "6bc60e43",
   "metadata": {},
   "outputs": [],
   "source": [
    "prediction = Dense(len(folders), activation='softmax')(x)\n",
    "\n",
    "# create a model object\n",
    "model = Model(inputs=mobilnet.input, outputs=prediction)"
   ]
  },
  {
   "cell_type": "code",
   "execution_count": 13,
   "id": "46e98ced",
   "metadata": {},
   "outputs": [
    {
     "name": "stdout",
     "output_type": "stream",
     "text": [
      "Model: \"model_1\"\n",
      "_________________________________________________________________\n",
      "Layer (type)                 Output Shape              Param #   \n",
      "=================================================================\n",
      "input_1 (InputLayer)         [(None, 224, 224, 3)]     0         \n",
      "_________________________________________________________________\n",
      "block1_conv1 (Conv2D)        (None, 224, 224, 64)      1792      \n",
      "_________________________________________________________________\n",
      "block1_conv2 (Conv2D)        (None, 224, 224, 64)      36928     \n",
      "_________________________________________________________________\n",
      "block1_pool (MaxPooling2D)   (None, 112, 112, 64)      0         \n",
      "_________________________________________________________________\n",
      "block2_conv1 (Conv2D)        (None, 112, 112, 128)     73856     \n",
      "_________________________________________________________________\n",
      "block2_conv2 (Conv2D)        (None, 112, 112, 128)     147584    \n",
      "_________________________________________________________________\n",
      "block2_pool (MaxPooling2D)   (None, 56, 56, 128)       0         \n",
      "_________________________________________________________________\n",
      "block3_conv1 (Conv2D)        (None, 56, 56, 256)       295168    \n",
      "_________________________________________________________________\n",
      "block3_conv2 (Conv2D)        (None, 56, 56, 256)       590080    \n",
      "_________________________________________________________________\n",
      "block3_conv3 (Conv2D)        (None, 56, 56, 256)       590080    \n",
      "_________________________________________________________________\n",
      "block3_conv4 (Conv2D)        (None, 56, 56, 256)       590080    \n",
      "_________________________________________________________________\n",
      "block3_pool (MaxPooling2D)   (None, 28, 28, 256)       0         \n",
      "_________________________________________________________________\n",
      "block4_conv1 (Conv2D)        (None, 28, 28, 512)       1180160   \n",
      "_________________________________________________________________\n",
      "block4_conv2 (Conv2D)        (None, 28, 28, 512)       2359808   \n",
      "_________________________________________________________________\n",
      "block4_conv3 (Conv2D)        (None, 28, 28, 512)       2359808   \n",
      "_________________________________________________________________\n",
      "block4_conv4 (Conv2D)        (None, 28, 28, 512)       2359808   \n",
      "_________________________________________________________________\n",
      "block4_pool (MaxPooling2D)   (None, 14, 14, 512)       0         \n",
      "_________________________________________________________________\n",
      "block5_conv1 (Conv2D)        (None, 14, 14, 512)       2359808   \n",
      "_________________________________________________________________\n",
      "block5_conv2 (Conv2D)        (None, 14, 14, 512)       2359808   \n",
      "_________________________________________________________________\n",
      "block5_conv3 (Conv2D)        (None, 14, 14, 512)       2359808   \n",
      "_________________________________________________________________\n",
      "block5_conv4 (Conv2D)        (None, 14, 14, 512)       2359808   \n",
      "_________________________________________________________________\n",
      "block5_pool (MaxPooling2D)   (None, 7, 7, 512)         0         \n",
      "_________________________________________________________________\n",
      "flatten (Flatten)            (None, 25088)             0         \n",
      "_________________________________________________________________\n",
      "dense_1 (Dense)              (None, 0)                 0         \n",
      "=================================================================\n",
      "Total params: 20,024,384\n",
      "Trainable params: 0\n",
      "Non-trainable params: 20,024,384\n",
      "_________________________________________________________________\n"
     ]
    }
   ],
   "source": [
    "# view the structure of the model\n",
    "model.summary()"
   ]
  },
  {
   "cell_type": "code",
   "execution_count": 14,
   "id": "dab762ae",
   "metadata": {},
   "outputs": [],
   "source": [
    "from tensorflow.keras.layers import MaxPooling2D"
   ]
  },
  {
   "cell_type": "code",
   "execution_count": 15,
   "id": "64124f64",
   "metadata": {},
   "outputs": [
    {
     "name": "stdout",
     "output_type": "stream",
     "text": [
      "Model: \"sequential\"\n",
      "_________________________________________________________________\n",
      "Layer (type)                 Output Shape              Param #   \n",
      "=================================================================\n",
      "conv2d (Conv2D)              (None, 224, 224, 16)      208       \n",
      "_________________________________________________________________\n",
      "max_pooling2d (MaxPooling2D) (None, 112, 112, 16)      0         \n",
      "_________________________________________________________________\n",
      "conv2d_1 (Conv2D)            (None, 112, 112, 32)      2080      \n",
      "_________________________________________________________________\n",
      "max_pooling2d_1 (MaxPooling2 (None, 56, 56, 32)        0         \n",
      "_________________________________________________________________\n",
      "conv2d_2 (Conv2D)            (None, 56, 56, 64)        8256      \n",
      "_________________________________________________________________\n",
      "max_pooling2d_2 (MaxPooling2 (None, 28, 28, 64)        0         \n",
      "_________________________________________________________________\n",
      "flatten_1 (Flatten)          (None, 50176)             0         \n",
      "_________________________________________________________________\n",
      "dense_2 (Dense)              (None, 500)               25088500  \n",
      "_________________________________________________________________\n",
      "dense_3 (Dense)              (None, 2)                 1002      \n",
      "=================================================================\n",
      "Total params: 25,100,046\n",
      "Trainable params: 25,100,046\n",
      "Non-trainable params: 0\n",
      "_________________________________________________________________\n"
     ]
    }
   ],
   "source": [
    "### Create Model from scratch using CNN\n",
    "model=Sequential()\n",
    "model.add(Conv2D(filters=16,kernel_size=2,padding=\"same\",activation=\"relu\",input_shape=(224,224,3)))\n",
    "model.add(MaxPooling2D(pool_size=2))\n",
    "model.add(Conv2D(filters=32,kernel_size=2,padding=\"same\",activation =\"relu\"))\n",
    "model.add(MaxPooling2D(pool_size=2))\n",
    "model.add(Conv2D(filters=64,kernel_size=2,padding=\"same\",activation=\"relu\"))\n",
    "model.add(MaxPooling2D(pool_size=2))\n",
    "model.add(Flatten())\n",
    "model.add(Dense(500,activation=\"relu\"))\n",
    "model.add(Dense(2,activation=\"softmax\"))\n",
    "model.summary()"
   ]
  },
  {
   "cell_type": "code",
   "execution_count": 16,
   "id": "cb17277e",
   "metadata": {},
   "outputs": [],
   "source": [
    "# tell the model what cost and optimization method to use\n",
    "model.compile(\n",
    "  loss='categorical_crossentropy',\n",
    "  optimizer='adam',\n",
    "  metrics=['accuracy']\n",
    ")"
   ]
  },
  {
   "cell_type": "code",
   "execution_count": 37,
   "id": "2f55d679",
   "metadata": {},
   "outputs": [],
   "source": [
    "# Use the Image Data Generator to import the images from the dataset\n",
    "from tensorflow.keras.preprocessing.image import ImageDataGenerator\n",
    "\n",
    "train_datagen = ImageDataGenerator(rescale = 1./255,\n",
    "                                   shear_range = 0.2,\n",
    "                                   zoom_range = 0.2,\n",
    "                                   horizontal_flip = True)\n",
    "\n",
    "test_datagen = ImageDataGenerator(rescale = 1./255)"
   ]
  },
  {
   "cell_type": "code",
   "execution_count": 38,
   "id": "4aec52bb",
   "metadata": {},
   "outputs": [
    {
     "name": "stdout",
     "output_type": "stream",
     "text": [
      "Found 416 images belonging to 2 classes.\n"
     ]
    }
   ],
   "source": [
    "# Make sure you provide the same target size as initialied for the image size\n",
    "training_set = train_datagen.flow_from_directory(r\"C:\\Users\\Pawan\\Downloads\\Dataset\\Dataset\\Train\",\n",
    "                                                 target_size = (224, 224),\n",
    "                                                 batch_size = 32,\n",
    "                                                 class_mode = 'categorical')"
   ]
  },
  {
   "cell_type": "code",
   "execution_count": 33,
   "id": "48d82385",
   "metadata": {},
   "outputs": [
    {
     "data": {
      "text/plain": [
       "<keras.preprocessing.image.DirectoryIterator at 0x1f5d9dd8700>"
      ]
     },
     "execution_count": 33,
     "metadata": {},
     "output_type": "execute_result"
    }
   ],
   "source": [
    "training_set"
   ]
  },
  {
   "cell_type": "code",
   "execution_count": 39,
   "id": "8f00dbab",
   "metadata": {},
   "outputs": [
    {
     "name": "stdout",
     "output_type": "stream",
     "text": [
      "Found 134 images belonging to 2 classes.\n"
     ]
    }
   ],
   "source": [
    "test_set = test_datagen.flow_from_directory(r\"C:\\Users\\Pawan\\Downloads\\Dataset\\Dataset\\Test\",\n",
    "                                            target_size = (224, 224),\n",
    "                                            batch_size = 32,\n",
    "                                            class_mode = 'categorical')"
   ]
  },
  {
   "cell_type": "code",
   "execution_count": 41,
   "id": "64dc4d5e",
   "metadata": {},
   "outputs": [
    {
     "name": "stderr",
     "output_type": "stream",
     "text": [
      "C:\\Anaconda\\lib\\site-packages\\keras\\engine\\training.py:1972: UserWarning: `Model.fit_generator` is deprecated and will be removed in a future version. Please use `Model.fit`, which supports generators.\n",
      "  warnings.warn('`Model.fit_generator` is deprecated and '\n"
     ]
    },
    {
     "name": "stdout",
     "output_type": "stream",
     "text": [
      "Epoch 1/10\n",
      "13/13 [==============================] - 27s 2s/step - loss: 0.7850 - accuracy: 0.5938 - val_loss: 0.8291 - val_accuracy: 0.3284\n",
      "Epoch 2/10\n",
      "13/13 [==============================] - 15s 1s/step - loss: 0.4920 - accuracy: 0.7668 - val_loss: 1.2631 - val_accuracy: 0.3209\n",
      "Epoch 3/10\n",
      "13/13 [==============================] - 16s 1s/step - loss: 0.4747 - accuracy: 0.7500 - val_loss: 0.8847 - val_accuracy: 0.5149\n",
      "Epoch 4/10\n",
      "13/13 [==============================] - 15s 1s/step - loss: 0.4849 - accuracy: 0.7380 - val_loss: 1.1076 - val_accuracy: 0.3955\n",
      "Epoch 5/10\n",
      "13/13 [==============================] - 17s 1s/step - loss: 0.3370 - accuracy: 0.8438 - val_loss: 0.5503 - val_accuracy: 0.7090\n",
      "Epoch 6/10\n",
      "13/13 [==============================] - 14s 1s/step - loss: 0.2621 - accuracy: 0.9014 - val_loss: 0.4916 - val_accuracy: 0.7463\n",
      "Epoch 7/10\n",
      "13/13 [==============================] - 15s 1s/step - loss: 0.1857 - accuracy: 0.9327 - val_loss: 0.4415 - val_accuracy: 0.7910\n",
      "Epoch 8/10\n",
      "13/13 [==============================] - 16s 1s/step - loss: 0.1660 - accuracy: 0.9447 - val_loss: 0.4671 - val_accuracy: 0.7985\n",
      "Epoch 9/10\n",
      "13/13 [==============================] - 13s 1s/step - loss: 0.1420 - accuracy: 0.9471 - val_loss: 0.3903 - val_accuracy: 0.8433\n",
      "Epoch 10/10\n",
      "13/13 [==============================] - 14s 1s/step - loss: 0.1227 - accuracy: 0.9591 - val_loss: 0.2496 - val_accuracy: 0.8881\n"
     ]
    }
   ],
   "source": [
    "# fit the model\n",
    "# Run the cell. It will take some time to execute\n",
    "r = model.fit_generator(\n",
    "  training_set,\n",
    "  validation_data=test_set,\n",
    "  epochs=10,\n",
    "  steps_per_epoch=len(training_set),\n",
    "  validation_steps=len(test_set)\n",
    ")"
   ]
  },
  {
   "cell_type": "code",
   "execution_count": 42,
   "id": "f44d0121",
   "metadata": {},
   "outputs": [
    {
     "data": {
      "image/png": "[encoded data removed]",
      "text/plain": [
       "<Figure size 432x288 with 1 Axes>"
      ]
     },
     "metadata": {
      "needs_background": "light"
     },
     "output_type": "display_data"
    },
    {
     "data": {
      "image/png": "[encoded data removed]",
      "text/plain": [
       "<Figure size 432x288 with 1 Axes>"
      ]
     },
     "metadata": {
      "needs_background": "light"
     },
     "output_type": "display_data"
    },
    {
     "data": {
      "text/plain": [
       "<Figure size 432x288 with 0 Axes>"
      ]
     },
     "metadata": {},
     "output_type": "display_data"
    }
   ],
   "source": [
    "# plot the loss\n",
    "plt.plot(r.history['loss'], label='train loss')\n",
    "plt.plot(r.history['val_loss'], label='val loss')\n",
    "plt.legend()\n",
    "plt.show()\n",
    "plt.savefig('LossVal_loss')\n",
    "\n",
    "# plot the accuracy\n",
    "plt.plot(r.history['accuracy'], label='train acc')\n",
    "plt.plot(r.history['val_accuracy'], label='val acc')\n",
    "plt.legend()\n",
    "plt.show()\n",
    "plt.savefig('AccVal_acc')"
   ]
  },
  {
   "cell_type": "code",
   "execution_count": 76,
   "id": "1eb6461c",
   "metadata": {},
   "outputs": [],
   "source": [
    "# save it as a h5 file\n",
    "\n",
    "from tensorflow.keras.models import load_model\n",
    "\n",
    "model.save('model_vgg19.h5')"
   ]
  },
  {
   "cell_type": "code",
   "execution_count": 77,
   "id": "ba5426cf",
   "metadata": {},
   "outputs": [],
   "source": [
    "y_pred = model.predict(test_set)"
   ]
  },
  {
   "cell_type": "code",
   "execution_count": 44,
   "id": "22b4bd5e",
   "metadata": {},
   "outputs": [
    {
     "data": {
      "text/plain": [
       "array([[9.91812229e-01, 8.18778574e-03],\n",
       "       [9.98255312e-01, 1.74465717e-03],\n",
       "       [9.99818861e-01, 1.81176612e-04],\n",
       "       [4.64789458e-02, 9.53521013e-01],\n",
       "       [9.98200536e-01, 1.79943000e-03],\n",
       "       [1.51333839e-01, 8.48666131e-01],\n",
       "       [9.99705255e-01, 2.94772180e-04],\n",
       "       [1.57610491e-01, 8.42389464e-01],\n",
       "       [2.22392097e-01, 7.77607858e-01],\n",
       "       [9.98272061e-01, 1.72795053e-03],\n",
       "       [9.47443962e-01, 5.25560603e-02],\n",
       "       [2.14176372e-01, 7.85823584e-01],\n",
       "       [9.94590044e-01, 5.40991640e-03],\n",
       "       [1.52605191e-01, 8.47394824e-01],\n",
       "       [4.38581198e-01, 5.61418831e-01],\n",
       "       [9.99410272e-01, 5.89726027e-04],\n",
       "       [2.59205729e-01, 7.40794301e-01],\n",
       "       [9.92285848e-01, 7.71419331e-03],\n",
       "       [1.00000000e+00, 1.39148437e-09],\n",
       "       [1.01779856e-01, 8.98220122e-01],\n",
       "       [9.99895930e-01, 1.04005638e-04],\n",
       "       [6.15541972e-02, 9.38445747e-01],\n",
       "       [7.81981349e-01, 2.18018651e-01],\n",
       "       [2.41091415e-01, 7.58908570e-01],\n",
       "       [1.00000000e+00, 1.67736636e-12],\n",
       "       [9.74957049e-02, 9.02504325e-01],\n",
       "       [9.62479770e-01, 3.75202522e-02],\n",
       "       [8.30376744e-02, 9.16962326e-01],\n",
       "       [9.78805959e-01, 2.11940743e-02],\n",
       "       [9.99995828e-01, 4.18582204e-06],\n",
       "       [9.99787271e-01, 2.12690531e-04],\n",
       "       [9.83993858e-02, 9.01600540e-01],\n",
       "       [1.00000000e+00, 2.48104359e-09],\n",
       "       [2.28250578e-01, 7.71749377e-01],\n",
       "       [9.99999285e-01, 6.70916450e-07],\n",
       "       [9.67178583e-01, 3.28213535e-02],\n",
       "       [9.99347270e-01, 6.52730698e-04],\n",
       "       [7.61645257e-01, 2.38354698e-01],\n",
       "       [8.30661237e-01, 1.69338763e-01],\n",
       "       [1.64458796e-01, 8.35541189e-01],\n",
       "       [9.97492671e-01, 2.50736973e-03],\n",
       "       [1.77708149e-01, 8.22291851e-01],\n",
       "       [1.16771236e-01, 8.83228719e-01],\n",
       "       [1.05818592e-01, 8.94181371e-01],\n",
       "       [7.06898496e-02, 9.29310203e-01],\n",
       "       [6.02800846e-01, 3.97199154e-01],\n",
       "       [9.99773204e-01, 2.26853183e-04],\n",
       "       [9.99999762e-01, 2.12961126e-07],\n",
       "       [8.06520432e-02, 9.19347942e-01],\n",
       "       [9.37769115e-01, 6.22308664e-02],\n",
       "       [1.02658823e-01, 8.97341132e-01],\n",
       "       [1.96511433e-01, 8.03488553e-01],\n",
       "       [6.14118911e-02, 9.38588142e-01],\n",
       "       [9.99997258e-01, 2.74695299e-06],\n",
       "       [9.99966264e-01, 3.37356469e-05],\n",
       "       [1.00000000e+00, 2.87854506e-12],\n",
       "       [1.32801056e-01, 8.67198944e-01],\n",
       "       [9.90522146e-01, 9.47783049e-03],\n",
       "       [9.99976754e-01, 2.32961302e-05],\n",
       "       [9.99997139e-01, 2.80870972e-06],\n",
       "       [8.45189691e-02, 9.15481091e-01],\n",
       "       [1.08361453e-01, 8.91638458e-01],\n",
       "       [9.98066962e-01, 1.93306850e-03],\n",
       "       [9.99996305e-01, 3.75422405e-06],\n",
       "       [4.28944051e-01, 5.71055949e-01],\n",
       "       [1.47075728e-01, 8.52924228e-01],\n",
       "       [9.98317599e-01, 1.68240513e-03],\n",
       "       [2.15527803e-01, 7.84472167e-01],\n",
       "       [9.99999642e-01, 3.92706056e-07],\n",
       "       [1.23629019e-01, 8.76370966e-01],\n",
       "       [9.89827514e-01, 1.01725487e-02],\n",
       "       [7.50045419e-01, 2.49954566e-01],\n",
       "       [9.99887466e-01, 1.12466892e-04],\n",
       "       [9.99470890e-01, 5.29143785e-04],\n",
       "       [9.99997854e-01, 2.15668319e-06],\n",
       "       [9.99998927e-01, 1.08944073e-06],\n",
       "       [1.00000000e+00, 3.76691212e-08],\n",
       "       [9.99789774e-01, 2.10223763e-04],\n",
       "       [7.36977383e-02, 9.26302254e-01],\n",
       "       [1.91988006e-01, 8.08011949e-01],\n",
       "       [1.48566887e-01, 8.51433158e-01],\n",
       "       [9.98672843e-01, 1.32717588e-03],\n",
       "       [9.99999881e-01, 9.63341122e-08],\n",
       "       [5.34022972e-02, 9.46597755e-01],\n",
       "       [9.95684743e-01, 4.31525754e-03],\n",
       "       [1.88579023e-01, 8.11420977e-01],\n",
       "       [9.72228706e-01, 2.77712662e-02],\n",
       "       [4.59342301e-01, 5.40657759e-01],\n",
       "       [9.99801695e-01, 1.98330919e-04],\n",
       "       [1.11094184e-01, 8.88905823e-01],\n",
       "       [9.97442126e-01, 2.55781552e-03],\n",
       "       [6.51847050e-02, 9.34815288e-01],\n",
       "       [9.93632138e-01, 6.36789296e-03],\n",
       "       [9.93668020e-01, 6.33196626e-03],\n",
       "       [1.48245797e-01, 8.51754129e-01],\n",
       "       [9.98526096e-01, 1.47388398e-03],\n",
       "       [1.96527153e-01, 8.03472877e-01],\n",
       "       [1.00000000e+00, 6.14444801e-13],\n",
       "       [5.39196789e-01, 4.60803211e-01],\n",
       "       [2.03721732e-01, 7.96278238e-01],\n",
       "       [2.48478979e-01, 7.51520991e-01],\n",
       "       [9.79151726e-01, 2.08483078e-02],\n",
       "       [1.00000000e+00, 1.82751292e-09],\n",
       "       [1.55716747e-01, 8.44283283e-01],\n",
       "       [8.03983927e-01, 1.96016103e-01],\n",
       "       [9.99733746e-01, 2.66296818e-04],\n",
       "       [3.35149676e-01, 6.64850295e-01],\n",
       "       [9.99999881e-01, 8.08644032e-08],\n",
       "       [8.68724942e-01, 1.31275058e-01],\n",
       "       [9.99619842e-01, 3.80073994e-04],\n",
       "       [2.12084681e-01, 7.87915289e-01],\n",
       "       [9.98197973e-01, 1.80206308e-03],\n",
       "       [1.36893451e-01, 8.63106608e-01],\n",
       "       [1.68547973e-01, 8.31452072e-01],\n",
       "       [1.00000000e+00, 1.61702829e-09],\n",
       "       [9.97167647e-01, 2.83235195e-03],\n",
       "       [1.29354000e-01, 8.70646000e-01],\n",
       "       [9.84769702e-01, 1.52303241e-02],\n",
       "       [9.66808200e-01, 3.31918374e-02],\n",
       "       [2.93357015e-01, 7.06642985e-01],\n",
       "       [8.88865709e-01, 1.11134224e-01],\n",
       "       [2.20779076e-01, 7.79220939e-01],\n",
       "       [9.89874959e-01, 1.01250578e-02],\n",
       "       [1.37324214e-01, 8.62675846e-01],\n",
       "       [9.99999523e-01, 5.11325766e-07],\n",
       "       [3.32914919e-01, 6.67085052e-01],\n",
       "       [9.99995828e-01, 4.13556063e-06],\n",
       "       [1.11465409e-01, 8.88534606e-01],\n",
       "       [9.99555409e-01, 4.44611738e-04],\n",
       "       [1.00000000e+00, 2.54998467e-10],\n",
       "       [9.99606073e-01, 3.93960014e-04],\n",
       "       [1.96503952e-01, 8.03496063e-01],\n",
       "       [9.94912982e-01, 5.08697284e-03],\n",
       "       [2.20904306e-01, 7.79095769e-01]], dtype=float32)"
      ]
     },
     "execution_count": 44,
     "metadata": {},
     "output_type": "execute_result"
    }
   ],
   "source": [
    "y_pred"
   ]
  },
  {
   "cell_type": "code",
   "execution_count": 45,
   "id": "690b007b",
   "metadata": {},
   "outputs": [],
   "source": [
    "import numpy as np\n",
    "y_pred = np.argmax(y_pred, axis=1)"
   ]
  },
  {
   "cell_type": "code",
   "execution_count": 46,
   "id": "89293258",
   "metadata": {},
   "outputs": [
    {
     "data": {
      "text/plain": [
       "array([0, 0, 0, 1, 0, 1, 0, 1, 1, 0, 0, 1, 0, 1, 1, 0, 1, 0, 0, 1, 0, 1,\n",
       "       0, 1, 0, 1, 0, 1, 0, 0, 0, 1, 0, 1, 0, 0, 0, 0, 0, 1, 0, 1, 1, 1,\n",
       "       1, 0, 0, 0, 1, 0, 1, 1, 1, 0, 0, 0, 1, 0, 0, 0, 1, 1, 0, 0, 1, 1,\n",
       "       0, 1, 0, 1, 0, 0, 0, 0, 0, 0, 0, 0, 1, 1, 1, 0, 0, 1, 0, 1, 0, 1,\n",
       "       0, 1, 0, 1, 0, 0, 1, 0, 1, 0, 0, 1, 1, 0, 0, 1, 0, 0, 1, 0, 0, 0,\n",
       "       1, 0, 1, 1, 0, 0, 1, 0, 0, 1, 0, 1, 0, 1, 0, 1, 0, 1, 0, 0, 0, 1,\n",
       "       0, 1], dtype=int64)"
      ]
     },
     "execution_count": 46,
     "metadata": {},
     "output_type": "execute_result"
    }
   ],
   "source": [
    "y_pred"
   ]
  },
  {
   "cell_type": "code",
   "execution_count": 69,
   "id": "6135a8df",
   "metadata": {},
   "outputs": [],
   "source": [
    "from tensorflow.keras.models import load_model\n",
    "from tensorflow.keras.preprocessing import image"
   ]
  },
  {
   "cell_type": "code",
   "execution_count": 78,
   "id": "62af9c96",
   "metadata": {},
   "outputs": [],
   "source": [
    "model=load_model(\"model_vgg19.h5\")"
   ]
  },
  {
   "cell_type": "code",
   "execution_count": 79,
   "id": "c965c088",
   "metadata": {},
   "outputs": [],
   "source": [
    "img=image.load_img(r\"C:\\Users\\Pawan\\Downloads\\Dataset\\Dataset\\Test\\Uninfected\\2.png\",target_size=(224,224))"
   ]
  },
  {
   "cell_type": "code",
   "execution_count": 80,
   "id": "90a64ba2",
   "metadata": {},
   "outputs": [
    {
     "data": {
      "text/plain": [
       "array([[[0., 0., 0.],\n",
       "        [0., 0., 0.],\n",
       "        [0., 0., 0.],\n",
       "        ...,\n",
       "        [0., 0., 0.],\n",
       "        [0., 0., 0.],\n",
       "        [0., 0., 0.]],\n",
       "\n",
       "       [[0., 0., 0.],\n",
       "        [0., 0., 0.],\n",
       "        [0., 0., 0.],\n",
       "        ...,\n",
       "        [0., 0., 0.],\n",
       "        [0., 0., 0.],\n",
       "        [0., 0., 0.]],\n",
       "\n",
       "       [[0., 0., 0.],\n",
       "        [0., 0., 0.],\n",
       "        [0., 0., 0.],\n",
       "        ...,\n",
       "        [0., 0., 0.],\n",
       "        [0., 0., 0.],\n",
       "        [0., 0., 0.]],\n",
       "\n",
       "       ...,\n",
       "\n",
       "       [[0., 0., 0.],\n",
       "        [0., 0., 0.],\n",
       "        [0., 0., 0.],\n",
       "        ...,\n",
       "        [0., 0., 0.],\n",
       "        [0., 0., 0.],\n",
       "        [0., 0., 0.]],\n",
       "\n",
       "       [[0., 0., 0.],\n",
       "        [0., 0., 0.],\n",
       "        [0., 0., 0.],\n",
       "        ...,\n",
       "        [0., 0., 0.],\n",
       "        [0., 0., 0.],\n",
       "        [0., 0., 0.]],\n",
       "\n",
       "       [[0., 0., 0.],\n",
       "        [0., 0., 0.],\n",
       "        [0., 0., 0.],\n",
       "        ...,\n",
       "        [0., 0., 0.],\n",
       "        [0., 0., 0.],\n",
       "        [0., 0., 0.]]], dtype=float32)"
      ]
     },
     "execution_count": 80,
     "metadata": {},
     "output_type": "execute_result"
    }
   ],
   "source": [
    "x=image.img_to_array(img)\n",
    "x"
   ]
  },
  {
   "cell_type": "code",
   "execution_count": 81,
   "id": "309b9519",
   "metadata": {},
   "outputs": [
    {
     "data": {
      "text/plain": [
       "(224, 224, 3)"
      ]
     },
     "execution_count": 81,
     "metadata": {},
     "output_type": "execute_result"
    }
   ],
   "source": [
    "x.shape"
   ]
  },
  {
   "cell_type": "code",
   "execution_count": 82,
   "id": "c3d10c9b",
   "metadata": {},
   "outputs": [],
   "source": [
    "x=x/255"
   ]
  },
  {
   "cell_type": "code",
   "execution_count": 83,
   "id": "a275f7fa",
   "metadata": {},
   "outputs": [
    {
     "data": {
      "text/plain": [
       "(1, 224, 224, 3)"
      ]
     },
     "execution_count": 83,
     "metadata": {},
     "output_type": "execute_result"
    }
   ],
   "source": [
    "x=np.expand_dims(x,axis=0)\n",
    "img_data=preprocess_input(x)\n",
    "img_data.shape"
   ]
  },
  {
   "cell_type": "code",
   "execution_count": 84,
   "id": "44587bd9",
   "metadata": {},
   "outputs": [
    {
     "data": {
      "text/plain": [
       "array([[1., 0.]], dtype=float32)"
      ]
     },
     "execution_count": 84,
     "metadata": {},
     "output_type": "execute_result"
    }
   ],
   "source": [
    "model.predict(img_data)"
   ]
  },
  {
   "cell_type": "code",
   "execution_count": 85,
   "id": "c13cfec3",
   "metadata": {},
   "outputs": [],
   "source": [
    "a=np.argmax(model.predict(img_data), axis=1)"
   ]
  },
  {
   "cell_type": "code",
   "execution_count": 88,
   "id": "6cc4053e",
   "metadata": {},
   "outputs": [
    {
     "name": "stdout",
     "output_type": "stream",
     "text": [
      "Infected\n"
     ]
    }
   ],
   "source": [
    "if(a==1):\n",
    "    print(\"Uninfected\")\n",
    "else:\n",
    "    print(\"Infected\")"
   ]
  },
  {
   "cell_type": "code",
   "execution_count": null,
   "id": "8e5b5ef4",
   "metadata": {},
   "outputs": [],
   "source": []
  }
 ],
 "metadata": {
  "kernelspec": {
   "display_name": "Python 3 (ipykernel)",
   "language": "python",
   "name": "python3"
  },
  "language_info": {
   "codemirror_mode": {
    "name": "ipython",
    "version": 3
   },
   "file_extension": ".py",
   "mimetype": "text/x-python",
   "name": "python",
   "nbconvert_exporter": "python",
   "pygments_lexer": "ipython3",
   "version": "3.9.7"
  }
 },
 "nbformat": 4,
 "nbformat_minor": 5
}
